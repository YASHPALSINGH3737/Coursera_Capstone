{
  "nbformat": 4,
  "nbformat_minor": 0,
  "metadata": {
    "colab": {
      "name": "Capstone_Battle of Neighborhoods.ipynb",
      "provenance": []
    },
    "kernelspec": {
      "name": "python3",
      "display_name": "Python 3"
    }
  },
  "cells": [
    {
      "cell_type": "markdown",
      "metadata": {
        "id": "gU5-zwgFE7rM",
        "colab_type": "text"
      },
      "source": [
        "#**Capstone Project - The Battle of Neighborhoods (Week 1)**"
      ]
    },
    {
      "cell_type": "markdown",
      "metadata": {
        "id": "fkyN239METLu",
        "colab_type": "text"
      },
      "source": [
        "**1. A description of the problem and a discussion of the background. (15 marks)**\n",
        "\n",
        "I want try to address a problem where I want to discover the neighborhoods who has plenty of hospitals or medic services.\n",
        "\n",
        "I live with my parents and I want to move to Toronto and I want to compare my two locations NY and Toronto in terms of medical facilities near the place I am going to live.\n",
        "It is very important that I should choose a location which have these conditions met, otherwise leaving my old age parent at home alone, will not be peaceful for me and I will be constantly remain worried about their well-being.\n",
        "\n",
        "\n",
        "**2. A description of the data and how it will be used to solve the problem. (15 marks)**\n",
        "\n",
        "I will pick up two residential locations in NY and Toronto, based upon my budget and will compare them for the surrounding facilities like Medical stores, Hospitals and other community services around and then rate the two neighborhoods accordingly.\n",
        "\n",
        "I will need to pull up data showing available spaces for rent and then I will query surrounding amenities.\n",
        "More the number of Medic amanities, more rating I will assign to those neighborhoods.\n",
        "\n",
        "Solving this problem will be helpful for many, as different people have different medical/vet requirements."
      ]
    }
  ]
}