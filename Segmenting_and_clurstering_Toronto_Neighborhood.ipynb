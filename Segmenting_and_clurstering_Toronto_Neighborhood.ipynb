{
  "nbformat": 4,
  "nbformat_minor": 0,
  "metadata": {
    "kernelspec": {
      "display_name": "Python 3",
      "language": "python",
      "name": "python3"
    },
    "language_info": {
      "codemirror_mode": {
        "name": "ipython",
        "version": 3
      },
      "file_extension": ".py",
      "mimetype": "text/x-python",
      "name": "python",
      "nbconvert_exporter": "python",
      "pygments_lexer": "ipython3",
      "version": "3.6.5"
    },
    "colab": {
      "name": "Segmenting and clurstering Toronto Neighborhood.ipynb",
      "provenance": []
    }
  },
  "cells": [
    {
      "cell_type": "markdown",
      "metadata": {
        "id": "19swSTEwU9_W",
        "colab_type": "text"
      },
      "source": [
        " # Part 1"
      ]
    },
    {
      "cell_type": "markdown",
      "metadata": {
        "id": "i-GzEubuU9_Y",
        "colab_type": "text"
      },
      "source": [
        "<h1>Segmenting and Clustering Neighborhoods of Toronto </h1>\n"
      ]
    },
    {
      "cell_type": "markdown",
      "metadata": {
        "collapsed": true,
        "id": "D1UxteVyU9_Z",
        "colab_type": "text"
      },
      "source": [
        "## <p style=\"color:#239B56;\" > Import `BeautifulSoup` Package to scrap the data </p>\n",
        "<h3>Step 1: Import the requests library and import pandas library</h3>"
      ]
    },
    {
      "cell_type": "code",
      "metadata": {
        "id": "E0eHL2vrU9_a",
        "colab_type": "code",
        "colab": {}
      },
      "source": [
        "import requests"
      ],
      "execution_count": 0,
      "outputs": []
    },
    {
      "cell_type": "code",
      "metadata": {
        "id": "vAyXU7bnU9_f",
        "colab_type": "code",
        "colab": {}
      },
      "source": [
        "from bs4 import BeautifulSoup\n",
        "import pandas as pd\n",
        "import numpy as np\n"
      ],
      "execution_count": 0,
      "outputs": []
    },
    {
      "cell_type": "markdown",
      "metadata": {
        "id": "s3aoS-yKU9_j",
        "colab_type": "text"
      },
      "source": [
        "<h3>Step 2: Send an HTTP request, get the response, and save in a variable</h3>"
      ]
    },
    {
      "cell_type": "code",
      "metadata": {
        "id": "P7wGMmoxU9_l",
        "colab_type": "code",
        "colab": {},
        "outputId": "4e391bfe-2c49-4ea4-e4a7-fc80931b9055"
      },
      "source": [
        "requests.get(\"https://en.wikipedia.org/wiki/List_of_postal_codes_of_Canada:_M\")"
      ],
      "execution_count": 0,
      "outputs": [
        {
          "output_type": "execute_result",
          "data": {
            "text/plain": [
              "<Response [200]>"
            ]
          },
          "metadata": {
            "tags": []
          },
          "execution_count": 87
        }
      ]
    },
    {
      "cell_type": "markdown",
      "metadata": {
        "id": "MRhfbQk9U9_t",
        "colab_type": "text"
      },
      "source": [
        "<h3>Step 3: Check the response status code to see if everything went as planned</h3>\n",
        "<li>status code 200: the request response cycle was successful\n",
        "<li>any other status code: it didn't work (e.g., 404 = page not found)"
      ]
    },
    {
      "cell_type": "code",
      "metadata": {
        "id": "nymO1CxcU9_u",
        "colab_type": "code",
        "colab": {}
      },
      "source": [
        "#print(response.status_code)"
      ],
      "execution_count": 0,
      "outputs": []
    },
    {
      "cell_type": "code",
      "metadata": {
        "id": "95ynZyvWU9_0",
        "colab_type": "code",
        "colab": {}
      },
      "source": [
        "response = requests.get(\"https://en.wikipedia.org/wiki/List_of_postal_codes_of_Canada:_M\").text"
      ],
      "execution_count": 0,
      "outputs": []
    },
    {
      "cell_type": "markdown",
      "metadata": {
        "id": "5x9QnkBfU9_6",
        "colab_type": "text"
      },
      "source": [
        "### Retrieve data from wikipedia  page content  "
      ]
    },
    {
      "cell_type": "code",
      "metadata": {
        "id": "04pHjb4qU9_7",
        "colab_type": "code",
        "colab": {}
      },
      "source": [
        "soup = BeautifulSoup(response, 'html.parser')\n",
        "\n",
        "data = []\n",
        "for tr in soup.tbody.find_all('tr'):\n",
        "    data.append([ td.get_text().strip() for td in tr.find_all('td')])"
      ],
      "execution_count": 0,
      "outputs": []
    },
    {
      "cell_type": "markdown",
      "metadata": {
        "id": "J8WorxPYU-AC",
        "colab_type": "text"
      },
      "source": [
        "### Data cleaning"
      ]
    },
    {
      "cell_type": "code",
      "metadata": {
        "id": "QHKR6oXTU-AC",
        "colab_type": "code",
        "colab": {}
      },
      "source": [
        "df=pd.DataFrame(data,columns=['PostalCode','Borough','Neighborhood'])"
      ],
      "execution_count": 0,
      "outputs": []
    },
    {
      "cell_type": "code",
      "metadata": {
        "id": "3lMxdiAPU-AG",
        "colab_type": "code",
        "colab": {}
      },
      "source": [
        "# Find indexes of rows that have \"Not assigned\" in Borough column\n",
        "indexNames = df[(df['Borough'] == \"Not assigned\")].index\n",
        "\n",
        "# Drop rows that have \"Not assigned\" in Borough column\n",
        "df.drop(indexNames,inplace=True)\n",
        "\n",
        "# Drop the first row\n",
        "df.dropna(inplace=True)"
      ],
      "execution_count": 0,
      "outputs": []
    },
    {
      "cell_type": "code",
      "metadata": {
        "id": "t4x6XpiCU-AL",
        "colab_type": "code",
        "colab": {},
        "outputId": "74448f54-900e-4847-ce71-6d3f566c4292"
      },
      "source": [
        "df.head(10)"
      ],
      "execution_count": 0,
      "outputs": [
        {
          "output_type": "execute_result",
          "data": {
            "text/html": [
              "<div>\n",
              "<style scoped>\n",
              "    .dataframe tbody tr th:only-of-type {\n",
              "        vertical-align: middle;\n",
              "    }\n",
              "\n",
              "    .dataframe tbody tr th {\n",
              "        vertical-align: top;\n",
              "    }\n",
              "\n",
              "    .dataframe thead th {\n",
              "        text-align: right;\n",
              "    }\n",
              "</style>\n",
              "<table border=\"1\" class=\"dataframe\">\n",
              "  <thead>\n",
              "    <tr style=\"text-align: right;\">\n",
              "      <th></th>\n",
              "      <th>PostalCode</th>\n",
              "      <th>Borough</th>\n",
              "      <th>Neighborhood</th>\n",
              "    </tr>\n",
              "  </thead>\n",
              "  <tbody>\n",
              "    <tr>\n",
              "      <th>3</th>\n",
              "      <td>M3A</td>\n",
              "      <td>North York</td>\n",
              "      <td>Parkwoods</td>\n",
              "    </tr>\n",
              "    <tr>\n",
              "      <th>4</th>\n",
              "      <td>M4A</td>\n",
              "      <td>North York</td>\n",
              "      <td>Victoria Village</td>\n",
              "    </tr>\n",
              "    <tr>\n",
              "      <th>5</th>\n",
              "      <td>M5A</td>\n",
              "      <td>Downtown Toronto</td>\n",
              "      <td>Regent Park / Harbourfront</td>\n",
              "    </tr>\n",
              "    <tr>\n",
              "      <th>6</th>\n",
              "      <td>M6A</td>\n",
              "      <td>North York</td>\n",
              "      <td>Lawrence Manor / Lawrence Heights</td>\n",
              "    </tr>\n",
              "    <tr>\n",
              "      <th>7</th>\n",
              "      <td>M7A</td>\n",
              "      <td>Downtown Toronto</td>\n",
              "      <td>Queen's Park / Ontario Provincial Government</td>\n",
              "    </tr>\n",
              "    <tr>\n",
              "      <th>9</th>\n",
              "      <td>M9A</td>\n",
              "      <td>Etobicoke</td>\n",
              "      <td>Islington Avenue</td>\n",
              "    </tr>\n",
              "    <tr>\n",
              "      <th>10</th>\n",
              "      <td>M1B</td>\n",
              "      <td>Scarborough</td>\n",
              "      <td>Malvern / Rouge</td>\n",
              "    </tr>\n",
              "    <tr>\n",
              "      <th>12</th>\n",
              "      <td>M3B</td>\n",
              "      <td>North York</td>\n",
              "      <td>Don Mills</td>\n",
              "    </tr>\n",
              "    <tr>\n",
              "      <th>13</th>\n",
              "      <td>M4B</td>\n",
              "      <td>East York</td>\n",
              "      <td>Parkview Hill / Woodbine Gardens</td>\n",
              "    </tr>\n",
              "    <tr>\n",
              "      <th>14</th>\n",
              "      <td>M5B</td>\n",
              "      <td>Downtown Toronto</td>\n",
              "      <td>Garden District, Ryerson</td>\n",
              "    </tr>\n",
              "  </tbody>\n",
              "</table>\n",
              "</div>"
            ],
            "text/plain": [
              "   PostalCode           Borough                                  Neighborhood\n",
              "3         M3A        North York                                     Parkwoods\n",
              "4         M4A        North York                              Victoria Village\n",
              "5         M5A  Downtown Toronto                    Regent Park / Harbourfront\n",
              "6         M6A        North York             Lawrence Manor / Lawrence Heights\n",
              "7         M7A  Downtown Toronto  Queen's Park / Ontario Provincial Government\n",
              "9         M9A         Etobicoke                              Islington Avenue\n",
              "10        M1B       Scarborough                               Malvern / Rouge\n",
              "12        M3B        North York                                     Don Mills\n",
              "13        M4B         East York              Parkview Hill / Woodbine Gardens\n",
              "14        M5B  Downtown Toronto                      Garden District, Ryerson"
            ]
          },
          "metadata": {
            "tags": []
          },
          "execution_count": 93
        }
      ]
    },
    {
      "cell_type": "markdown",
      "metadata": {
        "id": "crAb1zg0U-AR",
        "colab_type": "text"
      },
      "source": [
        "Combine multiple rows into one row based on Postal code and Borough"
      ]
    },
    {
      "cell_type": "code",
      "metadata": {
        "id": "4SKJ4X-IU-AT",
        "colab_type": "code",
        "colab": {
          "base_uri": "https://localhost:8080/",
          "height": 180
        },
        "outputId": "61bc4672-0ebb-43e9-bc99-07b600f9f0a2"
      },
      "source": [
        "\n",
        "df=df.groupby(['PostalCode','Borough'])['Neighborhood'].apply(', '.join).reset_index()"
      ],
      "execution_count": 1,
      "outputs": [
        {
          "output_type": "error",
          "ename": "NameError",
          "evalue": "ignored",
          "traceback": [
            "\u001b[0;31m---------------------------------------------------------------------------\u001b[0m",
            "\u001b[0;31mNameError\u001b[0m                                 Traceback (most recent call last)",
            "\u001b[0;32m<ipython-input-1-5e277a098aa4>\u001b[0m in \u001b[0;36m<module>\u001b[0;34m()\u001b[0m\n\u001b[1;32m      1\u001b[0m \u001b[0;34m\u001b[0m\u001b[0m\n\u001b[0;32m----> 2\u001b[0;31m \u001b[0mdf\u001b[0m\u001b[0;34m=\u001b[0m\u001b[0mdf\u001b[0m\u001b[0;34m.\u001b[0m\u001b[0mgroupby\u001b[0m\u001b[0;34m(\u001b[0m\u001b[0;34m[\u001b[0m\u001b[0;34m'PostalCode'\u001b[0m\u001b[0;34m,\u001b[0m\u001b[0;34m'Borough'\u001b[0m\u001b[0;34m]\u001b[0m\u001b[0;34m)\u001b[0m\u001b[0;34m[\u001b[0m\u001b[0;34m'Neighborhood'\u001b[0m\u001b[0;34m]\u001b[0m\u001b[0;34m.\u001b[0m\u001b[0mapply\u001b[0m\u001b[0;34m(\u001b[0m\u001b[0;34m', '\u001b[0m\u001b[0;34m.\u001b[0m\u001b[0mjoin\u001b[0m\u001b[0;34m)\u001b[0m\u001b[0;34m.\u001b[0m\u001b[0mreset_index\u001b[0m\u001b[0;34m(\u001b[0m\u001b[0;34m)\u001b[0m\u001b[0;34m\u001b[0m\u001b[0;34m\u001b[0m\u001b[0m\n\u001b[0m",
            "\u001b[0;31mNameError\u001b[0m: name 'df' is not defined"
          ]
        }
      ]
    },
    {
      "cell_type": "code",
      "metadata": {
        "id": "F0X7uzseU-AZ",
        "colab_type": "code",
        "colab": {}
      },
      "source": [
        ""
      ],
      "execution_count": 0,
      "outputs": []
    },
    {
      "cell_type": "markdown",
      "metadata": {
        "id": "jqaAmz6-U-Ac",
        "colab_type": "text"
      },
      "source": [
        "## clean data "
      ]
    },
    {
      "cell_type": "code",
      "metadata": {
        "id": "O5Oiy5OFU-Ad",
        "colab_type": "code",
        "colab": {},
        "outputId": "489c8592-1c72-4224-ce99-c1007064d372"
      },
      "source": [
        "# Replace \"Not assigned\" in Neighborhood column with the value in Borough column\n",
        "def custom_fx(data):\n",
        "    if data['Neighborhood']=='Not assigned':\n",
        "        var=data['Borough']\n",
        "    else:\n",
        "        var=data['Neighborhood']\n",
        "    return var\n",
        "\n",
        "# Apply the function\n",
        "df['Neighborhood']=df.apply(custom_fx,axis='columns')\n",
        "\n",
        "# Check that there is no more \"Not assigned\" in Neighborhood column\n",
        "print(\"There are {} rows that have 'Not assigned' in Neighborhood column in the dataframe\".format(\n",
        "    len(df[df['Neighborhood']=='Not assigned'])\n",
        ")\n",
        "     )\n",
        "df.head(11)"
      ],
      "execution_count": 0,
      "outputs": [
        {
          "output_type": "stream",
          "text": [
            "There are 0 rows that have 'Not assigned' in Neighborhood column in the dataframe\n"
          ],
          "name": "stdout"
        },
        {
          "output_type": "execute_result",
          "data": {
            "text/html": [
              "<div>\n",
              "<style scoped>\n",
              "    .dataframe tbody tr th:only-of-type {\n",
              "        vertical-align: middle;\n",
              "    }\n",
              "\n",
              "    .dataframe tbody tr th {\n",
              "        vertical-align: top;\n",
              "    }\n",
              "\n",
              "    .dataframe thead th {\n",
              "        text-align: right;\n",
              "    }\n",
              "</style>\n",
              "<table border=\"1\" class=\"dataframe\">\n",
              "  <thead>\n",
              "    <tr style=\"text-align: right;\">\n",
              "      <th></th>\n",
              "      <th>PostalCode</th>\n",
              "      <th>Borough</th>\n",
              "      <th>Neighborhood</th>\n",
              "    </tr>\n",
              "  </thead>\n",
              "  <tbody>\n",
              "    <tr>\n",
              "      <th>0</th>\n",
              "      <td>M1B</td>\n",
              "      <td>Scarborough</td>\n",
              "      <td>Malvern / Rouge</td>\n",
              "    </tr>\n",
              "    <tr>\n",
              "      <th>1</th>\n",
              "      <td>M1C</td>\n",
              "      <td>Scarborough</td>\n",
              "      <td>Rouge Hill / Port Union / Highland Creek</td>\n",
              "    </tr>\n",
              "    <tr>\n",
              "      <th>2</th>\n",
              "      <td>M1E</td>\n",
              "      <td>Scarborough</td>\n",
              "      <td>Guildwood / Morningside / West Hill</td>\n",
              "    </tr>\n",
              "    <tr>\n",
              "      <th>3</th>\n",
              "      <td>M1G</td>\n",
              "      <td>Scarborough</td>\n",
              "      <td>Woburn</td>\n",
              "    </tr>\n",
              "    <tr>\n",
              "      <th>4</th>\n",
              "      <td>M1H</td>\n",
              "      <td>Scarborough</td>\n",
              "      <td>Cedarbrae</td>\n",
              "    </tr>\n",
              "    <tr>\n",
              "      <th>5</th>\n",
              "      <td>M1J</td>\n",
              "      <td>Scarborough</td>\n",
              "      <td>Scarborough Village</td>\n",
              "    </tr>\n",
              "    <tr>\n",
              "      <th>6</th>\n",
              "      <td>M1K</td>\n",
              "      <td>Scarborough</td>\n",
              "      <td>Kennedy Park / Ionview / East Birchmount Park</td>\n",
              "    </tr>\n",
              "    <tr>\n",
              "      <th>7</th>\n",
              "      <td>M1L</td>\n",
              "      <td>Scarborough</td>\n",
              "      <td>Golden Mile / Clairlea / Oakridge</td>\n",
              "    </tr>\n",
              "    <tr>\n",
              "      <th>8</th>\n",
              "      <td>M1M</td>\n",
              "      <td>Scarborough</td>\n",
              "      <td>Cliffside / Cliffcrest / Scarborough Village West</td>\n",
              "    </tr>\n",
              "    <tr>\n",
              "      <th>9</th>\n",
              "      <td>M1N</td>\n",
              "      <td>Scarborough</td>\n",
              "      <td>Birch Cliff / Cliffside West</td>\n",
              "    </tr>\n",
              "    <tr>\n",
              "      <th>10</th>\n",
              "      <td>M1P</td>\n",
              "      <td>Scarborough</td>\n",
              "      <td>Dorset Park / Wexford Heights / Scarborough To...</td>\n",
              "    </tr>\n",
              "  </tbody>\n",
              "</table>\n",
              "</div>"
            ],
            "text/plain": [
              "   PostalCode      Borough                                       Neighborhood\n",
              "0         M1B  Scarborough                                    Malvern / Rouge\n",
              "1         M1C  Scarborough           Rouge Hill / Port Union / Highland Creek\n",
              "2         M1E  Scarborough                Guildwood / Morningside / West Hill\n",
              "3         M1G  Scarborough                                             Woburn\n",
              "4         M1H  Scarborough                                          Cedarbrae\n",
              "5         M1J  Scarborough                                Scarborough Village\n",
              "6         M1K  Scarborough      Kennedy Park / Ionview / East Birchmount Park\n",
              "7         M1L  Scarborough                  Golden Mile / Clairlea / Oakridge\n",
              "8         M1M  Scarborough  Cliffside / Cliffcrest / Scarborough Village West\n",
              "9         M1N  Scarborough                       Birch Cliff / Cliffside West\n",
              "10        M1P  Scarborough  Dorset Park / Wexford Heights / Scarborough To..."
            ]
          },
          "metadata": {
            "tags": []
          },
          "execution_count": 70
        }
      ]
    },
    {
      "cell_type": "code",
      "metadata": {
        "id": "mPCQxn2RU-Af",
        "colab_type": "code",
        "colab": {}
      },
      "source": [
        "# Export the dataframe\n",
        "df.to_csv(r'df_can.csv')"
      ],
      "execution_count": 0,
      "outputs": []
    },
    {
      "cell_type": "markdown",
      "metadata": {
        "id": "y6CwLgtGU-Ai",
        "colab_type": "text"
      },
      "source": [
        "### Explore the data"
      ]
    },
    {
      "cell_type": "markdown",
      "metadata": {
        "id": "YzToVdSjU-Ai",
        "colab_type": "text"
      },
      "source": [
        "### Shape of the table"
      ]
    },
    {
      "cell_type": "code",
      "metadata": {
        "id": "rKb-jlzsU-Aj",
        "colab_type": "code",
        "colab": {},
        "outputId": "85305119-189a-4f56-b3a7-228e54e61ac9"
      },
      "source": [
        "df.shape"
      ],
      "execution_count": 0,
      "outputs": [
        {
          "output_type": "execute_result",
          "data": {
            "text/plain": [
              "(103, 3)"
            ]
          },
          "metadata": {
            "tags": []
          },
          "execution_count": 75
        }
      ]
    },
    {
      "cell_type": "markdown",
      "metadata": {
        "id": "IPKt8RneU-Al",
        "colab_type": "text"
      },
      "source": [
        "# Part 2"
      ]
    },
    {
      "cell_type": "markdown",
      "metadata": {
        "id": "XQPZjPKCU-Am",
        "colab_type": "text"
      },
      "source": [
        "## Geographical Cordinates of postal code..."
      ]
    },
    {
      "cell_type": "markdown",
      "metadata": {
        "id": "lK2wwzC-U-An",
        "colab_type": "text"
      },
      "source": [
        "we read csv file that has the geographical coordinates of each postal code: \n",
        "\n",
        "import **pandas** to read the csv file"
      ]
    },
    {
      "cell_type": "code",
      "metadata": {
        "id": "HQ27YpddU-An",
        "colab_type": "code",
        "colab": {},
        "outputId": "3bf48471-dc6c-4d8f-d472-efe2d116a298"
      },
      "source": [
        "import pandas as pd # library for data analsysis\n",
        "import numpy as np # library to handle data in a vectorized manner\n",
        "\n",
        "link = \"http://cocl.us/Geospatial_data\"\n",
        "df1= pd.read_csv(link)\n",
        "\n",
        "df1.head()"
      ],
      "execution_count": 0,
      "outputs": [
        {
          "output_type": "execute_result",
          "data": {
            "text/html": [
              "<div>\n",
              "<style scoped>\n",
              "    .dataframe tbody tr th:only-of-type {\n",
              "        vertical-align: middle;\n",
              "    }\n",
              "\n",
              "    .dataframe tbody tr th {\n",
              "        vertical-align: top;\n",
              "    }\n",
              "\n",
              "    .dataframe thead th {\n",
              "        text-align: right;\n",
              "    }\n",
              "</style>\n",
              "<table border=\"1\" class=\"dataframe\">\n",
              "  <thead>\n",
              "    <tr style=\"text-align: right;\">\n",
              "      <th></th>\n",
              "      <th>Postal Code</th>\n",
              "      <th>Latitude</th>\n",
              "      <th>Longitude</th>\n",
              "    </tr>\n",
              "  </thead>\n",
              "  <tbody>\n",
              "    <tr>\n",
              "      <th>0</th>\n",
              "      <td>M1B</td>\n",
              "      <td>43.806686</td>\n",
              "      <td>-79.194353</td>\n",
              "    </tr>\n",
              "    <tr>\n",
              "      <th>1</th>\n",
              "      <td>M1C</td>\n",
              "      <td>43.784535</td>\n",
              "      <td>-79.160497</td>\n",
              "    </tr>\n",
              "    <tr>\n",
              "      <th>2</th>\n",
              "      <td>M1E</td>\n",
              "      <td>43.763573</td>\n",
              "      <td>-79.188711</td>\n",
              "    </tr>\n",
              "    <tr>\n",
              "      <th>3</th>\n",
              "      <td>M1G</td>\n",
              "      <td>43.770992</td>\n",
              "      <td>-79.216917</td>\n",
              "    </tr>\n",
              "    <tr>\n",
              "      <th>4</th>\n",
              "      <td>M1H</td>\n",
              "      <td>43.773136</td>\n",
              "      <td>-79.239476</td>\n",
              "    </tr>\n",
              "  </tbody>\n",
              "</table>\n",
              "</div>"
            ],
            "text/plain": [
              "  Postal Code   Latitude  Longitude\n",
              "0         M1B  43.806686 -79.194353\n",
              "1         M1C  43.784535 -79.160497\n",
              "2         M1E  43.763573 -79.188711\n",
              "3         M1G  43.770992 -79.216917\n",
              "4         M1H  43.773136 -79.239476"
            ]
          },
          "metadata": {
            "tags": []
          },
          "execution_count": 96
        }
      ]
    },
    {
      "cell_type": "code",
      "metadata": {
        "id": "uxbPJ_OFU-As",
        "colab_type": "code",
        "colab": {},
        "outputId": "aa67c62b-fad6-4a30-d228-3b5ff2e5a02d"
      },
      "source": [
        "df1.rename(columns={'Postal Code':'PostalCode'}, inplace=True)\n",
        "df1.columns"
      ],
      "execution_count": 0,
      "outputs": [
        {
          "output_type": "execute_result",
          "data": {
            "text/plain": [
              "Index(['PostalCode', 'Latitude', 'Longitude'], dtype='object')"
            ]
          },
          "metadata": {
            "tags": []
          },
          "execution_count": 99
        }
      ]
    },
    {
      "cell_type": "markdown",
      "metadata": {
        "id": "0cPKpO1LU-Ax",
        "colab_type": "text"
      },
      "source": [
        "#### Merging the two data frames together based on their Postcode"
      ]
    },
    {
      "cell_type": "code",
      "metadata": {
        "id": "unquO6xPU-Ay",
        "colab_type": "code",
        "colab": {},
        "outputId": "2221031c-ba77-440d-ac22-a2f7e2af6cae"
      },
      "source": [
        "df2 = pd.merge(df, df1, on='PostalCode', how='outer')\n",
        "df2.head(30)"
      ],
      "execution_count": 0,
      "outputs": [
        {
          "output_type": "execute_result",
          "data": {
            "text/html": [
              "<div>\n",
              "<style scoped>\n",
              "    .dataframe tbody tr th:only-of-type {\n",
              "        vertical-align: middle;\n",
              "    }\n",
              "\n",
              "    .dataframe tbody tr th {\n",
              "        vertical-align: top;\n",
              "    }\n",
              "\n",
              "    .dataframe thead th {\n",
              "        text-align: right;\n",
              "    }\n",
              "</style>\n",
              "<table border=\"1\" class=\"dataframe\">\n",
              "  <thead>\n",
              "    <tr style=\"text-align: right;\">\n",
              "      <th></th>\n",
              "      <th>PostalCode</th>\n",
              "      <th>Borough</th>\n",
              "      <th>Neighborhood</th>\n",
              "      <th>Latitude</th>\n",
              "      <th>Longitude</th>\n",
              "    </tr>\n",
              "  </thead>\n",
              "  <tbody>\n",
              "    <tr>\n",
              "      <th>0</th>\n",
              "      <td>M1B</td>\n",
              "      <td>Scarborough</td>\n",
              "      <td>Malvern / Rouge</td>\n",
              "      <td>43.806686</td>\n",
              "      <td>-79.194353</td>\n",
              "    </tr>\n",
              "    <tr>\n",
              "      <th>1</th>\n",
              "      <td>M1C</td>\n",
              "      <td>Scarborough</td>\n",
              "      <td>Rouge Hill / Port Union / Highland Creek</td>\n",
              "      <td>43.784535</td>\n",
              "      <td>-79.160497</td>\n",
              "    </tr>\n",
              "    <tr>\n",
              "      <th>2</th>\n",
              "      <td>M1E</td>\n",
              "      <td>Scarborough</td>\n",
              "      <td>Guildwood / Morningside / West Hill</td>\n",
              "      <td>43.763573</td>\n",
              "      <td>-79.188711</td>\n",
              "    </tr>\n",
              "    <tr>\n",
              "      <th>3</th>\n",
              "      <td>M1G</td>\n",
              "      <td>Scarborough</td>\n",
              "      <td>Woburn</td>\n",
              "      <td>43.770992</td>\n",
              "      <td>-79.216917</td>\n",
              "    </tr>\n",
              "    <tr>\n",
              "      <th>4</th>\n",
              "      <td>M1H</td>\n",
              "      <td>Scarborough</td>\n",
              "      <td>Cedarbrae</td>\n",
              "      <td>43.773136</td>\n",
              "      <td>-79.239476</td>\n",
              "    </tr>\n",
              "    <tr>\n",
              "      <th>5</th>\n",
              "      <td>M1J</td>\n",
              "      <td>Scarborough</td>\n",
              "      <td>Scarborough Village</td>\n",
              "      <td>43.744734</td>\n",
              "      <td>-79.239476</td>\n",
              "    </tr>\n",
              "    <tr>\n",
              "      <th>6</th>\n",
              "      <td>M1K</td>\n",
              "      <td>Scarborough</td>\n",
              "      <td>Kennedy Park / Ionview / East Birchmount Park</td>\n",
              "      <td>43.727929</td>\n",
              "      <td>-79.262029</td>\n",
              "    </tr>\n",
              "    <tr>\n",
              "      <th>7</th>\n",
              "      <td>M1L</td>\n",
              "      <td>Scarborough</td>\n",
              "      <td>Golden Mile / Clairlea / Oakridge</td>\n",
              "      <td>43.711112</td>\n",
              "      <td>-79.284577</td>\n",
              "    </tr>\n",
              "    <tr>\n",
              "      <th>8</th>\n",
              "      <td>M1M</td>\n",
              "      <td>Scarborough</td>\n",
              "      <td>Cliffside / Cliffcrest / Scarborough Village West</td>\n",
              "      <td>43.716316</td>\n",
              "      <td>-79.239476</td>\n",
              "    </tr>\n",
              "    <tr>\n",
              "      <th>9</th>\n",
              "      <td>M1N</td>\n",
              "      <td>Scarborough</td>\n",
              "      <td>Birch Cliff / Cliffside West</td>\n",
              "      <td>43.692657</td>\n",
              "      <td>-79.264848</td>\n",
              "    </tr>\n",
              "    <tr>\n",
              "      <th>10</th>\n",
              "      <td>M1P</td>\n",
              "      <td>Scarborough</td>\n",
              "      <td>Dorset Park / Wexford Heights / Scarborough To...</td>\n",
              "      <td>43.757410</td>\n",
              "      <td>-79.273304</td>\n",
              "    </tr>\n",
              "    <tr>\n",
              "      <th>11</th>\n",
              "      <td>M1R</td>\n",
              "      <td>Scarborough</td>\n",
              "      <td>Wexford / Maryvale</td>\n",
              "      <td>43.750072</td>\n",
              "      <td>-79.295849</td>\n",
              "    </tr>\n",
              "    <tr>\n",
              "      <th>12</th>\n",
              "      <td>M1S</td>\n",
              "      <td>Scarborough</td>\n",
              "      <td>Agincourt</td>\n",
              "      <td>43.794200</td>\n",
              "      <td>-79.262029</td>\n",
              "    </tr>\n",
              "    <tr>\n",
              "      <th>13</th>\n",
              "      <td>M1T</td>\n",
              "      <td>Scarborough</td>\n",
              "      <td>Clarks Corners / Tam O'Shanter / Sullivan</td>\n",
              "      <td>43.781638</td>\n",
              "      <td>-79.304302</td>\n",
              "    </tr>\n",
              "    <tr>\n",
              "      <th>14</th>\n",
              "      <td>M1V</td>\n",
              "      <td>Scarborough</td>\n",
              "      <td>Milliken / Agincourt North / Steeles East / L'...</td>\n",
              "      <td>43.815252</td>\n",
              "      <td>-79.284577</td>\n",
              "    </tr>\n",
              "    <tr>\n",
              "      <th>15</th>\n",
              "      <td>M1W</td>\n",
              "      <td>Scarborough</td>\n",
              "      <td>Steeles West / L'Amoreaux West</td>\n",
              "      <td>43.799525</td>\n",
              "      <td>-79.318389</td>\n",
              "    </tr>\n",
              "    <tr>\n",
              "      <th>16</th>\n",
              "      <td>M1X</td>\n",
              "      <td>Scarborough</td>\n",
              "      <td>Upper Rouge</td>\n",
              "      <td>43.836125</td>\n",
              "      <td>-79.205636</td>\n",
              "    </tr>\n",
              "    <tr>\n",
              "      <th>17</th>\n",
              "      <td>M2H</td>\n",
              "      <td>North York</td>\n",
              "      <td>Hillcrest Village</td>\n",
              "      <td>43.803762</td>\n",
              "      <td>-79.363452</td>\n",
              "    </tr>\n",
              "    <tr>\n",
              "      <th>18</th>\n",
              "      <td>M2J</td>\n",
              "      <td>North York</td>\n",
              "      <td>Fairview / Henry Farm / Oriole</td>\n",
              "      <td>43.778517</td>\n",
              "      <td>-79.346556</td>\n",
              "    </tr>\n",
              "    <tr>\n",
              "      <th>19</th>\n",
              "      <td>M2K</td>\n",
              "      <td>North York</td>\n",
              "      <td>Bayview Village</td>\n",
              "      <td>43.786947</td>\n",
              "      <td>-79.385975</td>\n",
              "    </tr>\n",
              "    <tr>\n",
              "      <th>20</th>\n",
              "      <td>M2L</td>\n",
              "      <td>North York</td>\n",
              "      <td>York Mills / Silver Hills</td>\n",
              "      <td>43.757490</td>\n",
              "      <td>-79.374714</td>\n",
              "    </tr>\n",
              "    <tr>\n",
              "      <th>21</th>\n",
              "      <td>M2M</td>\n",
              "      <td>North York</td>\n",
              "      <td>Willowdale / Newtonbrook</td>\n",
              "      <td>43.789053</td>\n",
              "      <td>-79.408493</td>\n",
              "    </tr>\n",
              "    <tr>\n",
              "      <th>22</th>\n",
              "      <td>M2N</td>\n",
              "      <td>North York</td>\n",
              "      <td>Willowdale</td>\n",
              "      <td>43.770120</td>\n",
              "      <td>-79.408493</td>\n",
              "    </tr>\n",
              "    <tr>\n",
              "      <th>23</th>\n",
              "      <td>M2P</td>\n",
              "      <td>North York</td>\n",
              "      <td>York Mills West</td>\n",
              "      <td>43.752758</td>\n",
              "      <td>-79.400049</td>\n",
              "    </tr>\n",
              "    <tr>\n",
              "      <th>24</th>\n",
              "      <td>M2R</td>\n",
              "      <td>North York</td>\n",
              "      <td>Willowdale</td>\n",
              "      <td>43.782736</td>\n",
              "      <td>-79.442259</td>\n",
              "    </tr>\n",
              "    <tr>\n",
              "      <th>25</th>\n",
              "      <td>M3A</td>\n",
              "      <td>North York</td>\n",
              "      <td>Parkwoods</td>\n",
              "      <td>43.753259</td>\n",
              "      <td>-79.329656</td>\n",
              "    </tr>\n",
              "    <tr>\n",
              "      <th>26</th>\n",
              "      <td>M3B</td>\n",
              "      <td>North York</td>\n",
              "      <td>Don Mills</td>\n",
              "      <td>43.745906</td>\n",
              "      <td>-79.352188</td>\n",
              "    </tr>\n",
              "    <tr>\n",
              "      <th>27</th>\n",
              "      <td>M3C</td>\n",
              "      <td>North York</td>\n",
              "      <td>Don Mills</td>\n",
              "      <td>43.725900</td>\n",
              "      <td>-79.340923</td>\n",
              "    </tr>\n",
              "    <tr>\n",
              "      <th>28</th>\n",
              "      <td>M3H</td>\n",
              "      <td>North York</td>\n",
              "      <td>Bathurst Manor / Wilson Heights / Downsview North</td>\n",
              "      <td>43.754328</td>\n",
              "      <td>-79.442259</td>\n",
              "    </tr>\n",
              "    <tr>\n",
              "      <th>29</th>\n",
              "      <td>M3J</td>\n",
              "      <td>North York</td>\n",
              "      <td>Northwood Park / York University</td>\n",
              "      <td>43.767980</td>\n",
              "      <td>-79.487262</td>\n",
              "    </tr>\n",
              "  </tbody>\n",
              "</table>\n",
              "</div>"
            ],
            "text/plain": [
              "   PostalCode      Borough                                       Neighborhood  \\\n",
              "0         M1B  Scarborough                                    Malvern / Rouge   \n",
              "1         M1C  Scarborough           Rouge Hill / Port Union / Highland Creek   \n",
              "2         M1E  Scarborough                Guildwood / Morningside / West Hill   \n",
              "3         M1G  Scarborough                                             Woburn   \n",
              "4         M1H  Scarborough                                          Cedarbrae   \n",
              "5         M1J  Scarborough                                Scarborough Village   \n",
              "6         M1K  Scarborough      Kennedy Park / Ionview / East Birchmount Park   \n",
              "7         M1L  Scarborough                  Golden Mile / Clairlea / Oakridge   \n",
              "8         M1M  Scarborough  Cliffside / Cliffcrest / Scarborough Village West   \n",
              "9         M1N  Scarborough                       Birch Cliff / Cliffside West   \n",
              "10        M1P  Scarborough  Dorset Park / Wexford Heights / Scarborough To...   \n",
              "11        M1R  Scarborough                                 Wexford / Maryvale   \n",
              "12        M1S  Scarborough                                          Agincourt   \n",
              "13        M1T  Scarborough          Clarks Corners / Tam O'Shanter / Sullivan   \n",
              "14        M1V  Scarborough  Milliken / Agincourt North / Steeles East / L'...   \n",
              "15        M1W  Scarborough                     Steeles West / L'Amoreaux West   \n",
              "16        M1X  Scarborough                                        Upper Rouge   \n",
              "17        M2H   North York                                  Hillcrest Village   \n",
              "18        M2J   North York                     Fairview / Henry Farm / Oriole   \n",
              "19        M2K   North York                                    Bayview Village   \n",
              "20        M2L   North York                          York Mills / Silver Hills   \n",
              "21        M2M   North York                           Willowdale / Newtonbrook   \n",
              "22        M2N   North York                                         Willowdale   \n",
              "23        M2P   North York                                    York Mills West   \n",
              "24        M2R   North York                                         Willowdale   \n",
              "25        M3A   North York                                          Parkwoods   \n",
              "26        M3B   North York                                          Don Mills   \n",
              "27        M3C   North York                                          Don Mills   \n",
              "28        M3H   North York  Bathurst Manor / Wilson Heights / Downsview North   \n",
              "29        M3J   North York                   Northwood Park / York University   \n",
              "\n",
              "     Latitude  Longitude  \n",
              "0   43.806686 -79.194353  \n",
              "1   43.784535 -79.160497  \n",
              "2   43.763573 -79.188711  \n",
              "3   43.770992 -79.216917  \n",
              "4   43.773136 -79.239476  \n",
              "5   43.744734 -79.239476  \n",
              "6   43.727929 -79.262029  \n",
              "7   43.711112 -79.284577  \n",
              "8   43.716316 -79.239476  \n",
              "9   43.692657 -79.264848  \n",
              "10  43.757410 -79.273304  \n",
              "11  43.750072 -79.295849  \n",
              "12  43.794200 -79.262029  \n",
              "13  43.781638 -79.304302  \n",
              "14  43.815252 -79.284577  \n",
              "15  43.799525 -79.318389  \n",
              "16  43.836125 -79.205636  \n",
              "17  43.803762 -79.363452  \n",
              "18  43.778517 -79.346556  \n",
              "19  43.786947 -79.385975  \n",
              "20  43.757490 -79.374714  \n",
              "21  43.789053 -79.408493  \n",
              "22  43.770120 -79.408493  \n",
              "23  43.752758 -79.400049  \n",
              "24  43.782736 -79.442259  \n",
              "25  43.753259 -79.329656  \n",
              "26  43.745906 -79.352188  \n",
              "27  43.725900 -79.340923  \n",
              "28  43.754328 -79.442259  \n",
              "29  43.767980 -79.487262  "
            ]
          },
          "metadata": {
            "tags": []
          },
          "execution_count": 100
        }
      ]
    },
    {
      "cell_type": "code",
      "metadata": {
        "id": "8Wwe-_9ZU-A3",
        "colab_type": "code",
        "colab": {}
      },
      "source": [
        ""
      ],
      "execution_count": 0,
      "outputs": []
    }
  ]
}