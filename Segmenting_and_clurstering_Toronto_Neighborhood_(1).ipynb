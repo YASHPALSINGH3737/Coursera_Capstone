{
  "nbformat": 4,
  "nbformat_minor": 0,
  "metadata": {
    "kernelspec": {
      "display_name": "Python 3",
      "language": "python",
      "name": "python3"
    },
    "language_info": {
      "codemirror_mode": {
        "name": "ipython",
        "version": 3
      },
      "file_extension": ".py",
      "mimetype": "text/x-python",
      "name": "python",
      "nbconvert_exporter": "python",
      "pygments_lexer": "ipython3",
      "version": "3.6.5"
    },
    "colab": {
      "name": "Segmenting_and_clurstering_Toronto_Neighborhood (1).ipynb",
      "provenance": []
    }
  },
  "cells": [
    {
      "cell_type": "markdown",
      "metadata": {
        "id": "19swSTEwU9_W",
        "colab_type": "text"
      },
      "source": [
        " # Part 1"
      ]
    },
    {
      "cell_type": "markdown",
      "metadata": {
        "id": "i-GzEubuU9_Y",
        "colab_type": "text"
      },
      "source": [
        "<h1>Segmenting and Clustering Neighborhoods of Toronto </h1>\n"
      ]
    },
    {
      "cell_type": "markdown",
      "metadata": {
        "collapsed": true,
        "id": "D1UxteVyU9_Z",
        "colab_type": "text"
      },
      "source": [
        "## <p style=\"color:#239B56;\" > Import `BeautifulSoup` Package to scrap the data </p>\n",
        "<h3>Step 1: Import the requests library and import pandas library</h3>"
      ]
    },
    {
      "cell_type": "code",
      "metadata": {
        "id": "E0eHL2vrU9_a",
        "colab_type": "code",
        "colab": {}
      },
      "source": [
        "import requests"
      ],
      "execution_count": 0,
      "outputs": []
    },
    {
      "cell_type": "code",
      "metadata": {
        "id": "vAyXU7bnU9_f",
        "colab_type": "code",
        "colab": {}
      },
      "source": [
        "from bs4 import BeautifulSoup\n",
        "import pandas as pd\n",
        "import numpy as np\n",
        "from sklearn.cluster import KMeans\n"
      ],
      "execution_count": 0,
      "outputs": []
    },
    {
      "cell_type": "markdown",
      "metadata": {
        "id": "MRhfbQk9U9_t",
        "colab_type": "text"
      },
      "source": [
        "<h3>Step 2: Check the response status code to see if everything went as planned</h3>\n",
        "<li>status code 200: the request response cycle was successful\n",
        "<li>any other status code: it didn't work (e.g., 404 = page not found)"
      ]
    },
    {
      "cell_type": "code",
      "metadata": {
        "id": "nymO1CxcU9_u",
        "colab_type": "code",
        "colab": {}
      },
      "source": [
        "#print(response.status_code)"
      ],
      "execution_count": 0,
      "outputs": []
    },
    {
      "cell_type": "code",
      "metadata": {
        "id": "95ynZyvWU9_0",
        "colab_type": "code",
        "colab": {}
      },
      "source": [
        "response = requests.get(\"https://en.wikipedia.org/wiki/List_of_postal_codes_of_Canada:_M\").text"
      ],
      "execution_count": 0,
      "outputs": []
    },
    {
      "cell_type": "markdown",
      "metadata": {
        "id": "5x9QnkBfU9_6",
        "colab_type": "text"
      },
      "source": [
        "### Retrieve data from wikipedia  page content  "
      ]
    },
    {
      "cell_type": "code",
      "metadata": {
        "id": "04pHjb4qU9_7",
        "colab_type": "code",
        "colab": {}
      },
      "source": [
        "soup = BeautifulSoup(response, 'html.parser')\n",
        "\n",
        "data = []\n",
        "for tr in soup.tbody.find_all('tr'):\n",
        "    data.append([ td.get_text().strip() for td in tr.find_all('td')])"
      ],
      "execution_count": 0,
      "outputs": []
    },
    {
      "cell_type": "markdown",
      "metadata": {
        "id": "J8WorxPYU-AC",
        "colab_type": "text"
      },
      "source": [
        "### Data cleaning"
      ]
    },
    {
      "cell_type": "code",
      "metadata": {
        "id": "QHKR6oXTU-AC",
        "colab_type": "code",
        "colab": {}
      },
      "source": [
        "df=pd.DataFrame(data,columns=['PostalCode','Borough','Neighborhood'])"
      ],
      "execution_count": 0,
      "outputs": []
    },
    {
      "cell_type": "code",
      "metadata": {
        "id": "3lMxdiAPU-AG",
        "colab_type": "code",
        "colab": {}
      },
      "source": [
        "# Find indexes of rows that have \"Not assigned\" in Borough column\n",
        "indexNames = df[(df['Borough'] == \"Not assigned\")].index\n",
        "\n",
        "# Drop rows that have \"Not assigned\" in Borough column\n",
        "df.drop(indexNames,inplace=True)\n",
        "\n",
        "# Drop the first row\n",
        "df.dropna(inplace=True)"
      ],
      "execution_count": 0,
      "outputs": []
    },
    {
      "cell_type": "code",
      "metadata": {
        "id": "t4x6XpiCU-AL",
        "colab_type": "code",
        "outputId": "e008eb9c-6fb6-439a-d8ce-1a4f618f2559",
        "colab": {
          "base_uri": "https://localhost:8080/",
          "height": 359
        }
      },
      "source": [
        "df.head(10)"
      ],
      "execution_count": 9,
      "outputs": [
        {
          "output_type": "execute_result",
          "data": {
            "text/html": [
              "<div>\n",
              "<style scoped>\n",
              "    .dataframe tbody tr th:only-of-type {\n",
              "        vertical-align: middle;\n",
              "    }\n",
              "\n",
              "    .dataframe tbody tr th {\n",
              "        vertical-align: top;\n",
              "    }\n",
              "\n",
              "    .dataframe thead th {\n",
              "        text-align: right;\n",
              "    }\n",
              "</style>\n",
              "<table border=\"1\" class=\"dataframe\">\n",
              "  <thead>\n",
              "    <tr style=\"text-align: right;\">\n",
              "      <th></th>\n",
              "      <th>PostalCode</th>\n",
              "      <th>Borough</th>\n",
              "      <th>Neighborhood</th>\n",
              "    </tr>\n",
              "  </thead>\n",
              "  <tbody>\n",
              "    <tr>\n",
              "      <th>3</th>\n",
              "      <td>M3A</td>\n",
              "      <td>North York</td>\n",
              "      <td>Parkwoods</td>\n",
              "    </tr>\n",
              "    <tr>\n",
              "      <th>4</th>\n",
              "      <td>M4A</td>\n",
              "      <td>North York</td>\n",
              "      <td>Victoria Village</td>\n",
              "    </tr>\n",
              "    <tr>\n",
              "      <th>5</th>\n",
              "      <td>M5A</td>\n",
              "      <td>Downtown Toronto</td>\n",
              "      <td>Regent Park / Harbourfront</td>\n",
              "    </tr>\n",
              "    <tr>\n",
              "      <th>6</th>\n",
              "      <td>M6A</td>\n",
              "      <td>North York</td>\n",
              "      <td>Lawrence Manor / Lawrence Heights</td>\n",
              "    </tr>\n",
              "    <tr>\n",
              "      <th>7</th>\n",
              "      <td>M7A</td>\n",
              "      <td>Downtown Toronto</td>\n",
              "      <td>Queen's Park / Ontario Provincial Government</td>\n",
              "    </tr>\n",
              "    <tr>\n",
              "      <th>9</th>\n",
              "      <td>M9A</td>\n",
              "      <td>Etobicoke</td>\n",
              "      <td>Islington Avenue</td>\n",
              "    </tr>\n",
              "    <tr>\n",
              "      <th>10</th>\n",
              "      <td>M1B</td>\n",
              "      <td>Scarborough</td>\n",
              "      <td>Malvern / Rouge</td>\n",
              "    </tr>\n",
              "    <tr>\n",
              "      <th>12</th>\n",
              "      <td>M3B</td>\n",
              "      <td>North York</td>\n",
              "      <td>Don Mills</td>\n",
              "    </tr>\n",
              "    <tr>\n",
              "      <th>13</th>\n",
              "      <td>M4B</td>\n",
              "      <td>East York</td>\n",
              "      <td>Parkview Hill / Woodbine Gardens</td>\n",
              "    </tr>\n",
              "    <tr>\n",
              "      <th>14</th>\n",
              "      <td>M5B</td>\n",
              "      <td>Downtown Toronto</td>\n",
              "      <td>Garden District, Ryerson</td>\n",
              "    </tr>\n",
              "  </tbody>\n",
              "</table>\n",
              "</div>"
            ],
            "text/plain": [
              "   PostalCode           Borough                                  Neighborhood\n",
              "3         M3A        North York                                     Parkwoods\n",
              "4         M4A        North York                              Victoria Village\n",
              "5         M5A  Downtown Toronto                    Regent Park / Harbourfront\n",
              "6         M6A        North York             Lawrence Manor / Lawrence Heights\n",
              "7         M7A  Downtown Toronto  Queen's Park / Ontario Provincial Government\n",
              "9         M9A         Etobicoke                              Islington Avenue\n",
              "10        M1B       Scarborough                               Malvern / Rouge\n",
              "12        M3B        North York                                     Don Mills\n",
              "13        M4B         East York              Parkview Hill / Woodbine Gardens\n",
              "14        M5B  Downtown Toronto                      Garden District, Ryerson"
            ]
          },
          "metadata": {
            "tags": []
          },
          "execution_count": 9
        }
      ]
    },
    {
      "cell_type": "markdown",
      "metadata": {
        "id": "crAb1zg0U-AR",
        "colab_type": "text"
      },
      "source": [
        "Combine multiple rows into one row based on Postal code and Borough"
      ]
    },
    {
      "cell_type": "code",
      "metadata": {
        "id": "4SKJ4X-IU-AT",
        "colab_type": "code",
        "colab": {}
      },
      "source": [
        "\n",
        "df=df.groupby(['PostalCode','Borough'])['Neighborhood'].apply(', '.join).reset_index()"
      ],
      "execution_count": 0,
      "outputs": []
    },
    {
      "cell_type": "markdown",
      "metadata": {
        "id": "jqaAmz6-U-Ac",
        "colab_type": "text"
      },
      "source": [
        "## clean data "
      ]
    },
    {
      "cell_type": "code",
      "metadata": {
        "id": "O5Oiy5OFU-Ad",
        "colab_type": "code",
        "outputId": "1fb5cf21-ea98-4dc2-9ec5-5e46989f4c26",
        "colab": {
          "base_uri": "https://localhost:8080/",
          "height": 407
        }
      },
      "source": [
        "# Replace \"Not assigned\" in Neighborhood column with the value in Borough column\n",
        "def custom_fx(data):\n",
        "    if data['Neighborhood']=='Not assigned':\n",
        "        var=data['Borough']\n",
        "    else:\n",
        "        var=data['Neighborhood']\n",
        "    return var\n",
        "\n",
        "# Apply the function\n",
        "df['Neighborhood']=df.apply(custom_fx,axis='columns')\n",
        "\n",
        "# Check that there is no more \"Not assigned\" in Neighborhood column\n",
        "print(\"There are {} rows that have 'Not assigned' in Neighborhood column in the dataframe\".format(\n",
        "    len(df[df['Neighborhood']=='Not assigned'])\n",
        ")\n",
        "     )\n",
        "df.head(11)"
      ],
      "execution_count": 11,
      "outputs": [
        {
          "output_type": "stream",
          "text": [
            "There are 0 rows that have 'Not assigned' in Neighborhood column in the dataframe\n"
          ],
          "name": "stdout"
        },
        {
          "output_type": "execute_result",
          "data": {
            "text/html": [
              "<div>\n",
              "<style scoped>\n",
              "    .dataframe tbody tr th:only-of-type {\n",
              "        vertical-align: middle;\n",
              "    }\n",
              "\n",
              "    .dataframe tbody tr th {\n",
              "        vertical-align: top;\n",
              "    }\n",
              "\n",
              "    .dataframe thead th {\n",
              "        text-align: right;\n",
              "    }\n",
              "</style>\n",
              "<table border=\"1\" class=\"dataframe\">\n",
              "  <thead>\n",
              "    <tr style=\"text-align: right;\">\n",
              "      <th></th>\n",
              "      <th>PostalCode</th>\n",
              "      <th>Borough</th>\n",
              "      <th>Neighborhood</th>\n",
              "    </tr>\n",
              "  </thead>\n",
              "  <tbody>\n",
              "    <tr>\n",
              "      <th>0</th>\n",
              "      <td>M1B</td>\n",
              "      <td>Scarborough</td>\n",
              "      <td>Malvern / Rouge</td>\n",
              "    </tr>\n",
              "    <tr>\n",
              "      <th>1</th>\n",
              "      <td>M1C</td>\n",
              "      <td>Scarborough</td>\n",
              "      <td>Rouge Hill / Port Union / Highland Creek</td>\n",
              "    </tr>\n",
              "    <tr>\n",
              "      <th>2</th>\n",
              "      <td>M1E</td>\n",
              "      <td>Scarborough</td>\n",
              "      <td>Guildwood / Morningside / West Hill</td>\n",
              "    </tr>\n",
              "    <tr>\n",
              "      <th>3</th>\n",
              "      <td>M1G</td>\n",
              "      <td>Scarborough</td>\n",
              "      <td>Woburn</td>\n",
              "    </tr>\n",
              "    <tr>\n",
              "      <th>4</th>\n",
              "      <td>M1H</td>\n",
              "      <td>Scarborough</td>\n",
              "      <td>Cedarbrae</td>\n",
              "    </tr>\n",
              "    <tr>\n",
              "      <th>5</th>\n",
              "      <td>M1J</td>\n",
              "      <td>Scarborough</td>\n",
              "      <td>Scarborough Village</td>\n",
              "    </tr>\n",
              "    <tr>\n",
              "      <th>6</th>\n",
              "      <td>M1K</td>\n",
              "      <td>Scarborough</td>\n",
              "      <td>Kennedy Park / Ionview / East Birchmount Park</td>\n",
              "    </tr>\n",
              "    <tr>\n",
              "      <th>7</th>\n",
              "      <td>M1L</td>\n",
              "      <td>Scarborough</td>\n",
              "      <td>Golden Mile / Clairlea / Oakridge</td>\n",
              "    </tr>\n",
              "    <tr>\n",
              "      <th>8</th>\n",
              "      <td>M1M</td>\n",
              "      <td>Scarborough</td>\n",
              "      <td>Cliffside / Cliffcrest / Scarborough Village West</td>\n",
              "    </tr>\n",
              "    <tr>\n",
              "      <th>9</th>\n",
              "      <td>M1N</td>\n",
              "      <td>Scarborough</td>\n",
              "      <td>Birch Cliff / Cliffside West</td>\n",
              "    </tr>\n",
              "    <tr>\n",
              "      <th>10</th>\n",
              "      <td>M1P</td>\n",
              "      <td>Scarborough</td>\n",
              "      <td>Dorset Park / Wexford Heights / Scarborough To...</td>\n",
              "    </tr>\n",
              "  </tbody>\n",
              "</table>\n",
              "</div>"
            ],
            "text/plain": [
              "   PostalCode      Borough                                       Neighborhood\n",
              "0         M1B  Scarborough                                    Malvern / Rouge\n",
              "1         M1C  Scarborough           Rouge Hill / Port Union / Highland Creek\n",
              "2         M1E  Scarborough                Guildwood / Morningside / West Hill\n",
              "3         M1G  Scarborough                                             Woburn\n",
              "4         M1H  Scarborough                                          Cedarbrae\n",
              "5         M1J  Scarborough                                Scarborough Village\n",
              "6         M1K  Scarborough      Kennedy Park / Ionview / East Birchmount Park\n",
              "7         M1L  Scarborough                  Golden Mile / Clairlea / Oakridge\n",
              "8         M1M  Scarborough  Cliffside / Cliffcrest / Scarborough Village West\n",
              "9         M1N  Scarborough                       Birch Cliff / Cliffside West\n",
              "10        M1P  Scarborough  Dorset Park / Wexford Heights / Scarborough To..."
            ]
          },
          "metadata": {
            "tags": []
          },
          "execution_count": 11
        }
      ]
    },
    {
      "cell_type": "code",
      "metadata": {
        "id": "mPCQxn2RU-Af",
        "colab_type": "code",
        "colab": {}
      },
      "source": [
        "# Export the dataframe\n",
        "df.to_csv(r'df_can.csv')"
      ],
      "execution_count": 0,
      "outputs": []
    },
    {
      "cell_type": "markdown",
      "metadata": {
        "id": "y6CwLgtGU-Ai",
        "colab_type": "text"
      },
      "source": [
        "### Explore the data"
      ]
    },
    {
      "cell_type": "markdown",
      "metadata": {
        "id": "YzToVdSjU-Ai",
        "colab_type": "text"
      },
      "source": [
        "### Shape of the table"
      ]
    },
    {
      "cell_type": "code",
      "metadata": {
        "id": "rKb-jlzsU-Aj",
        "colab_type": "code",
        "outputId": "55d6d1e4-60e1-4215-e234-a03efc4ab79c",
        "colab": {
          "base_uri": "https://localhost:8080/",
          "height": 34
        }
      },
      "source": [
        "df.shape"
      ],
      "execution_count": 13,
      "outputs": [
        {
          "output_type": "execute_result",
          "data": {
            "text/plain": [
              "(103, 3)"
            ]
          },
          "metadata": {
            "tags": []
          },
          "execution_count": 13
        }
      ]
    },
    {
      "cell_type": "markdown",
      "metadata": {
        "id": "IPKt8RneU-Al",
        "colab_type": "text"
      },
      "source": [
        "# Part 2"
      ]
    },
    {
      "cell_type": "markdown",
      "metadata": {
        "id": "XQPZjPKCU-Am",
        "colab_type": "text"
      },
      "source": [
        "## Geographical Cordinates of postal code..."
      ]
    },
    {
      "cell_type": "markdown",
      "metadata": {
        "id": "lK2wwzC-U-An",
        "colab_type": "text"
      },
      "source": [
        "we read csv file that has the geographical coordinates of each postal code: \n",
        "\n",
        "import **pandas** to read the csv file"
      ]
    },
    {
      "cell_type": "code",
      "metadata": {
        "id": "HQ27YpddU-An",
        "colab_type": "code",
        "outputId": "b2d50d3d-1a80-44d0-e789-ee7aff5542ec",
        "colab": {
          "base_uri": "https://localhost:8080/",
          "height": 204
        }
      },
      "source": [
        "import pandas as pd # library for data analsysis\n",
        "import numpy as np # library to handle data in a vectorized manner\n",
        "\n",
        "link = \"http://cocl.us/Geospatial_data\"\n",
        "df1= pd.read_csv(link)\n",
        "\n",
        "df1.head()"
      ],
      "execution_count": 14,
      "outputs": [
        {
          "output_type": "execute_result",
          "data": {
            "text/html": [
              "<div>\n",
              "<style scoped>\n",
              "    .dataframe tbody tr th:only-of-type {\n",
              "        vertical-align: middle;\n",
              "    }\n",
              "\n",
              "    .dataframe tbody tr th {\n",
              "        vertical-align: top;\n",
              "    }\n",
              "\n",
              "    .dataframe thead th {\n",
              "        text-align: right;\n",
              "    }\n",
              "</style>\n",
              "<table border=\"1\" class=\"dataframe\">\n",
              "  <thead>\n",
              "    <tr style=\"text-align: right;\">\n",
              "      <th></th>\n",
              "      <th>Postal Code</th>\n",
              "      <th>Latitude</th>\n",
              "      <th>Longitude</th>\n",
              "    </tr>\n",
              "  </thead>\n",
              "  <tbody>\n",
              "    <tr>\n",
              "      <th>0</th>\n",
              "      <td>M1B</td>\n",
              "      <td>43.806686</td>\n",
              "      <td>-79.194353</td>\n",
              "    </tr>\n",
              "    <tr>\n",
              "      <th>1</th>\n",
              "      <td>M1C</td>\n",
              "      <td>43.784535</td>\n",
              "      <td>-79.160497</td>\n",
              "    </tr>\n",
              "    <tr>\n",
              "      <th>2</th>\n",
              "      <td>M1E</td>\n",
              "      <td>43.763573</td>\n",
              "      <td>-79.188711</td>\n",
              "    </tr>\n",
              "    <tr>\n",
              "      <th>3</th>\n",
              "      <td>M1G</td>\n",
              "      <td>43.770992</td>\n",
              "      <td>-79.216917</td>\n",
              "    </tr>\n",
              "    <tr>\n",
              "      <th>4</th>\n",
              "      <td>M1H</td>\n",
              "      <td>43.773136</td>\n",
              "      <td>-79.239476</td>\n",
              "    </tr>\n",
              "  </tbody>\n",
              "</table>\n",
              "</div>"
            ],
            "text/plain": [
              "  Postal Code   Latitude  Longitude\n",
              "0         M1B  43.806686 -79.194353\n",
              "1         M1C  43.784535 -79.160497\n",
              "2         M1E  43.763573 -79.188711\n",
              "3         M1G  43.770992 -79.216917\n",
              "4         M1H  43.773136 -79.239476"
            ]
          },
          "metadata": {
            "tags": []
          },
          "execution_count": 14
        }
      ]
    },
    {
      "cell_type": "code",
      "metadata": {
        "id": "uxbPJ_OFU-As",
        "colab_type": "code",
        "outputId": "b191a225-1f3d-4733-9ad0-9fd2758cbb16",
        "colab": {
          "base_uri": "https://localhost:8080/",
          "height": 34
        }
      },
      "source": [
        "df1.rename(columns={'Postal Code':'PostalCode'}, inplace=True)\n",
        "df1.columns"
      ],
      "execution_count": 15,
      "outputs": [
        {
          "output_type": "execute_result",
          "data": {
            "text/plain": [
              "Index(['PostalCode', 'Latitude', 'Longitude'], dtype='object')"
            ]
          },
          "metadata": {
            "tags": []
          },
          "execution_count": 15
        }
      ]
    },
    {
      "cell_type": "markdown",
      "metadata": {
        "id": "0cPKpO1LU-Ax",
        "colab_type": "text"
      },
      "source": [
        "#### Merging the two data frames together based on their Postcode"
      ]
    },
    {
      "cell_type": "code",
      "metadata": {
        "id": "unquO6xPU-Ay",
        "colab_type": "code",
        "outputId": "1724add4-9603-49a0-96dc-df165b757053",
        "colab": {
          "base_uri": "https://localhost:8080/",
          "height": 979
        }
      },
      "source": [
        "df2 = pd.merge(df, df1, on='PostalCode', how='outer')\n",
        "df2.head(30)"
      ],
      "execution_count": 16,
      "outputs": [
        {
          "output_type": "execute_result",
          "data": {
            "text/html": [
              "<div>\n",
              "<style scoped>\n",
              "    .dataframe tbody tr th:only-of-type {\n",
              "        vertical-align: middle;\n",
              "    }\n",
              "\n",
              "    .dataframe tbody tr th {\n",
              "        vertical-align: top;\n",
              "    }\n",
              "\n",
              "    .dataframe thead th {\n",
              "        text-align: right;\n",
              "    }\n",
              "</style>\n",
              "<table border=\"1\" class=\"dataframe\">\n",
              "  <thead>\n",
              "    <tr style=\"text-align: right;\">\n",
              "      <th></th>\n",
              "      <th>PostalCode</th>\n",
              "      <th>Borough</th>\n",
              "      <th>Neighborhood</th>\n",
              "      <th>Latitude</th>\n",
              "      <th>Longitude</th>\n",
              "    </tr>\n",
              "  </thead>\n",
              "  <tbody>\n",
              "    <tr>\n",
              "      <th>0</th>\n",
              "      <td>M1B</td>\n",
              "      <td>Scarborough</td>\n",
              "      <td>Malvern / Rouge</td>\n",
              "      <td>43.806686</td>\n",
              "      <td>-79.194353</td>\n",
              "    </tr>\n",
              "    <tr>\n",
              "      <th>1</th>\n",
              "      <td>M1C</td>\n",
              "      <td>Scarborough</td>\n",
              "      <td>Rouge Hill / Port Union / Highland Creek</td>\n",
              "      <td>43.784535</td>\n",
              "      <td>-79.160497</td>\n",
              "    </tr>\n",
              "    <tr>\n",
              "      <th>2</th>\n",
              "      <td>M1E</td>\n",
              "      <td>Scarborough</td>\n",
              "      <td>Guildwood / Morningside / West Hill</td>\n",
              "      <td>43.763573</td>\n",
              "      <td>-79.188711</td>\n",
              "    </tr>\n",
              "    <tr>\n",
              "      <th>3</th>\n",
              "      <td>M1G</td>\n",
              "      <td>Scarborough</td>\n",
              "      <td>Woburn</td>\n",
              "      <td>43.770992</td>\n",
              "      <td>-79.216917</td>\n",
              "    </tr>\n",
              "    <tr>\n",
              "      <th>4</th>\n",
              "      <td>M1H</td>\n",
              "      <td>Scarborough</td>\n",
              "      <td>Cedarbrae</td>\n",
              "      <td>43.773136</td>\n",
              "      <td>-79.239476</td>\n",
              "    </tr>\n",
              "    <tr>\n",
              "      <th>5</th>\n",
              "      <td>M1J</td>\n",
              "      <td>Scarborough</td>\n",
              "      <td>Scarborough Village</td>\n",
              "      <td>43.744734</td>\n",
              "      <td>-79.239476</td>\n",
              "    </tr>\n",
              "    <tr>\n",
              "      <th>6</th>\n",
              "      <td>M1K</td>\n",
              "      <td>Scarborough</td>\n",
              "      <td>Kennedy Park / Ionview / East Birchmount Park</td>\n",
              "      <td>43.727929</td>\n",
              "      <td>-79.262029</td>\n",
              "    </tr>\n",
              "    <tr>\n",
              "      <th>7</th>\n",
              "      <td>M1L</td>\n",
              "      <td>Scarborough</td>\n",
              "      <td>Golden Mile / Clairlea / Oakridge</td>\n",
              "      <td>43.711112</td>\n",
              "      <td>-79.284577</td>\n",
              "    </tr>\n",
              "    <tr>\n",
              "      <th>8</th>\n",
              "      <td>M1M</td>\n",
              "      <td>Scarborough</td>\n",
              "      <td>Cliffside / Cliffcrest / Scarborough Village West</td>\n",
              "      <td>43.716316</td>\n",
              "      <td>-79.239476</td>\n",
              "    </tr>\n",
              "    <tr>\n",
              "      <th>9</th>\n",
              "      <td>M1N</td>\n",
              "      <td>Scarborough</td>\n",
              "      <td>Birch Cliff / Cliffside West</td>\n",
              "      <td>43.692657</td>\n",
              "      <td>-79.264848</td>\n",
              "    </tr>\n",
              "    <tr>\n",
              "      <th>10</th>\n",
              "      <td>M1P</td>\n",
              "      <td>Scarborough</td>\n",
              "      <td>Dorset Park / Wexford Heights / Scarborough To...</td>\n",
              "      <td>43.757410</td>\n",
              "      <td>-79.273304</td>\n",
              "    </tr>\n",
              "    <tr>\n",
              "      <th>11</th>\n",
              "      <td>M1R</td>\n",
              "      <td>Scarborough</td>\n",
              "      <td>Wexford / Maryvale</td>\n",
              "      <td>43.750072</td>\n",
              "      <td>-79.295849</td>\n",
              "    </tr>\n",
              "    <tr>\n",
              "      <th>12</th>\n",
              "      <td>M1S</td>\n",
              "      <td>Scarborough</td>\n",
              "      <td>Agincourt</td>\n",
              "      <td>43.794200</td>\n",
              "      <td>-79.262029</td>\n",
              "    </tr>\n",
              "    <tr>\n",
              "      <th>13</th>\n",
              "      <td>M1T</td>\n",
              "      <td>Scarborough</td>\n",
              "      <td>Clarks Corners / Tam O'Shanter / Sullivan</td>\n",
              "      <td>43.781638</td>\n",
              "      <td>-79.304302</td>\n",
              "    </tr>\n",
              "    <tr>\n",
              "      <th>14</th>\n",
              "      <td>M1V</td>\n",
              "      <td>Scarborough</td>\n",
              "      <td>Milliken / Agincourt North / Steeles East / L'...</td>\n",
              "      <td>43.815252</td>\n",
              "      <td>-79.284577</td>\n",
              "    </tr>\n",
              "    <tr>\n",
              "      <th>15</th>\n",
              "      <td>M1W</td>\n",
              "      <td>Scarborough</td>\n",
              "      <td>Steeles West / L'Amoreaux West</td>\n",
              "      <td>43.799525</td>\n",
              "      <td>-79.318389</td>\n",
              "    </tr>\n",
              "    <tr>\n",
              "      <th>16</th>\n",
              "      <td>M1X</td>\n",
              "      <td>Scarborough</td>\n",
              "      <td>Upper Rouge</td>\n",
              "      <td>43.836125</td>\n",
              "      <td>-79.205636</td>\n",
              "    </tr>\n",
              "    <tr>\n",
              "      <th>17</th>\n",
              "      <td>M2H</td>\n",
              "      <td>North York</td>\n",
              "      <td>Hillcrest Village</td>\n",
              "      <td>43.803762</td>\n",
              "      <td>-79.363452</td>\n",
              "    </tr>\n",
              "    <tr>\n",
              "      <th>18</th>\n",
              "      <td>M2J</td>\n",
              "      <td>North York</td>\n",
              "      <td>Fairview / Henry Farm / Oriole</td>\n",
              "      <td>43.778517</td>\n",
              "      <td>-79.346556</td>\n",
              "    </tr>\n",
              "    <tr>\n",
              "      <th>19</th>\n",
              "      <td>M2K</td>\n",
              "      <td>North York</td>\n",
              "      <td>Bayview Village</td>\n",
              "      <td>43.786947</td>\n",
              "      <td>-79.385975</td>\n",
              "    </tr>\n",
              "    <tr>\n",
              "      <th>20</th>\n",
              "      <td>M2L</td>\n",
              "      <td>North York</td>\n",
              "      <td>York Mills / Silver Hills</td>\n",
              "      <td>43.757490</td>\n",
              "      <td>-79.374714</td>\n",
              "    </tr>\n",
              "    <tr>\n",
              "      <th>21</th>\n",
              "      <td>M2M</td>\n",
              "      <td>North York</td>\n",
              "      <td>Willowdale / Newtonbrook</td>\n",
              "      <td>43.789053</td>\n",
              "      <td>-79.408493</td>\n",
              "    </tr>\n",
              "    <tr>\n",
              "      <th>22</th>\n",
              "      <td>M2N</td>\n",
              "      <td>North York</td>\n",
              "      <td>Willowdale</td>\n",
              "      <td>43.770120</td>\n",
              "      <td>-79.408493</td>\n",
              "    </tr>\n",
              "    <tr>\n",
              "      <th>23</th>\n",
              "      <td>M2P</td>\n",
              "      <td>North York</td>\n",
              "      <td>York Mills West</td>\n",
              "      <td>43.752758</td>\n",
              "      <td>-79.400049</td>\n",
              "    </tr>\n",
              "    <tr>\n",
              "      <th>24</th>\n",
              "      <td>M2R</td>\n",
              "      <td>North York</td>\n",
              "      <td>Willowdale</td>\n",
              "      <td>43.782736</td>\n",
              "      <td>-79.442259</td>\n",
              "    </tr>\n",
              "    <tr>\n",
              "      <th>25</th>\n",
              "      <td>M3A</td>\n",
              "      <td>North York</td>\n",
              "      <td>Parkwoods</td>\n",
              "      <td>43.753259</td>\n",
              "      <td>-79.329656</td>\n",
              "    </tr>\n",
              "    <tr>\n",
              "      <th>26</th>\n",
              "      <td>M3B</td>\n",
              "      <td>North York</td>\n",
              "      <td>Don Mills</td>\n",
              "      <td>43.745906</td>\n",
              "      <td>-79.352188</td>\n",
              "    </tr>\n",
              "    <tr>\n",
              "      <th>27</th>\n",
              "      <td>M3C</td>\n",
              "      <td>North York</td>\n",
              "      <td>Don Mills</td>\n",
              "      <td>43.725900</td>\n",
              "      <td>-79.340923</td>\n",
              "    </tr>\n",
              "    <tr>\n",
              "      <th>28</th>\n",
              "      <td>M3H</td>\n",
              "      <td>North York</td>\n",
              "      <td>Bathurst Manor / Wilson Heights / Downsview North</td>\n",
              "      <td>43.754328</td>\n",
              "      <td>-79.442259</td>\n",
              "    </tr>\n",
              "    <tr>\n",
              "      <th>29</th>\n",
              "      <td>M3J</td>\n",
              "      <td>North York</td>\n",
              "      <td>Northwood Park / York University</td>\n",
              "      <td>43.767980</td>\n",
              "      <td>-79.487262</td>\n",
              "    </tr>\n",
              "  </tbody>\n",
              "</table>\n",
              "</div>"
            ],
            "text/plain": [
              "   PostalCode      Borough  ...   Latitude  Longitude\n",
              "0         M1B  Scarborough  ...  43.806686 -79.194353\n",
              "1         M1C  Scarborough  ...  43.784535 -79.160497\n",
              "2         M1E  Scarborough  ...  43.763573 -79.188711\n",
              "3         M1G  Scarborough  ...  43.770992 -79.216917\n",
              "4         M1H  Scarborough  ...  43.773136 -79.239476\n",
              "5         M1J  Scarborough  ...  43.744734 -79.239476\n",
              "6         M1K  Scarborough  ...  43.727929 -79.262029\n",
              "7         M1L  Scarborough  ...  43.711112 -79.284577\n",
              "8         M1M  Scarborough  ...  43.716316 -79.239476\n",
              "9         M1N  Scarborough  ...  43.692657 -79.264848\n",
              "10        M1P  Scarborough  ...  43.757410 -79.273304\n",
              "11        M1R  Scarborough  ...  43.750072 -79.295849\n",
              "12        M1S  Scarborough  ...  43.794200 -79.262029\n",
              "13        M1T  Scarborough  ...  43.781638 -79.304302\n",
              "14        M1V  Scarborough  ...  43.815252 -79.284577\n",
              "15        M1W  Scarborough  ...  43.799525 -79.318389\n",
              "16        M1X  Scarborough  ...  43.836125 -79.205636\n",
              "17        M2H   North York  ...  43.803762 -79.363452\n",
              "18        M2J   North York  ...  43.778517 -79.346556\n",
              "19        M2K   North York  ...  43.786947 -79.385975\n",
              "20        M2L   North York  ...  43.757490 -79.374714\n",
              "21        M2M   North York  ...  43.789053 -79.408493\n",
              "22        M2N   North York  ...  43.770120 -79.408493\n",
              "23        M2P   North York  ...  43.752758 -79.400049\n",
              "24        M2R   North York  ...  43.782736 -79.442259\n",
              "25        M3A   North York  ...  43.753259 -79.329656\n",
              "26        M3B   North York  ...  43.745906 -79.352188\n",
              "27        M3C   North York  ...  43.725900 -79.340923\n",
              "28        M3H   North York  ...  43.754328 -79.442259\n",
              "29        M3J   North York  ...  43.767980 -79.487262\n",
              "\n",
              "[30 rows x 5 columns]"
            ]
          },
          "metadata": {
            "tags": []
          },
          "execution_count": 16
        }
      ]
    },
    {
      "cell_type": "markdown",
      "metadata": {
        "id": "PgVamqrM83Gr",
        "colab_type": "text"
      },
      "source": [
        "#Part 3:\n",
        "1. To add enough Markdown cells to explain what you decided to do and to report any observations you make.\n",
        "2. To generate maps to visualize your neighborhoods and how they cluster together.\n",
        "(Here we are generating a map to visualize Toronto neighborhood)"
      ]
    },
    {
      "cell_type": "code",
      "metadata": {
        "id": "j2cnGLoTsX5d",
        "colab_type": "code",
        "colab": {
          "base_uri": "https://localhost:8080/",
          "height": 34
        },
        "outputId": "357bbf7a-a209-4fee-ea43-ebc24edf096f"
      },
      "source": [
        "# set number of clusters\n",
        "\n",
        "kclusters = 5\n",
        "\n",
        "df2_clustering = df2.drop('Neighborhood', 1)\n",
        "\n",
        "df3_clustering = df2_clustering.drop('Borough',1)\n",
        "\n",
        "df4_clustering = df3_clustering.drop('PostalCode', 1)\n",
        "\n",
        "\n",
        "# run k-means clustering\n",
        "kmeans = KMeans(n_clusters=kclusters, random_state=0).fit(df4_clustering)\n",
        "\n",
        "# check cluster labels generated for each row in the dataframe\n",
        "kmeans.labels_[0:2] "
      ],
      "execution_count": 18,
      "outputs": [
        {
          "output_type": "execute_result",
          "data": {
            "text/plain": [
              "array([2, 2], dtype=int32)"
            ]
          },
          "metadata": {
            "tags": []
          },
          "execution_count": 18
        }
      ]
    },
    {
      "cell_type": "code",
      "metadata": {
        "id": "wU6HFnEMnn3-",
        "colab_type": "code",
        "colab": {
          "base_uri": "https://localhost:8080/",
          "height": 34
        },
        "outputId": "4528d4be-f01a-45bd-f8e7-adaee34b40fd"
      },
      "source": [
        "from geopy.geocoders import Nominatim # convert an address into latitude and longitude values\n",
        "address = 'Toronto, TR'\n",
        "\n",
        "geolocator = Nominatim(user_agent=\"tr_explorer\")\n",
        "location = geolocator.geocode(address)\n",
        "latitude = location.latitude\n",
        "longitude = location.longitude\n",
        "print('The geograpical coordinate of Toronto are {}, {}.'.format(latitude, longitude))"
      ],
      "execution_count": 23,
      "outputs": [
        {
          "output_type": "stream",
          "text": [
            "The geograpical coordinate of Toronto are 43.6561136, -79.392321.\n"
          ],
          "name": "stdout"
        }
      ]
    },
    {
      "cell_type": "code",
      "metadata": {
        "id": "s8RRtLmwwnYz",
        "colab_type": "code",
        "colab": {
          "base_uri": "https://localhost:8080/",
          "height": 763
        },
        "outputId": "a5125fa9-507f-4b3c-818b-5f3e8c56ca5e"
      },
      "source": [
        "# add clustering labels\n",
        "#df2.insert(0, 'Cluster Labels', kmeans.labels_)\n",
        "import matplotlib.cm as cm\n",
        "import matplotlib.colors as colors\n",
        "import folium # map rendering library\n",
        "#manhattan_merged = manhattan_data\n",
        "\n",
        "# merge toronto_grouped with toronto_data to add latitude/longitude for each neighborhood\n",
        "#manhattan_merged = manhattan_merged.join(neighborhoods_venues_sorted.set_index('Neighborhood'), on='Neighborhood')\n",
        "\n",
        "#manhattan_merged.head() # check the last columns!\n",
        "\n",
        "map_clusters = folium.Map(location=[latitude, longitude], zoom_start=11)\n",
        "\n",
        "# set color scheme for the clusters\n",
        "x = np.arange(kclusters)\n",
        "ys = [i + x + (i*x)**2 for i in range(kclusters)]\n",
        "colors_array = cm.rainbow(np.linspace(0, 1, len(ys)))\n",
        "rainbow = [colors.rgb2hex(i) for i in colors_array]\n",
        "\n",
        "# add markers to the map\n",
        "markers_colors = []\n",
        "for lat, lon, poi, cluster in zip(df2['Latitude'], df2['Longitude'], df2['Neighborhood'], df2['Cluster Labels']):\n",
        "    label = folium.Popup(str(poi) + ' Cluster ' + str(cluster), parse_html=True)\n",
        "    folium.CircleMarker(\n",
        "        [lat, lon],\n",
        "        radius=5,\n",
        "        popup=label,\n",
        "        color=rainbow[cluster-1],\n",
        "        fill=True,\n",
        "        fill_color=rainbow[cluster-1],\n",
        "        fill_opacity=0.7).add_to(map_clusters)\n",
        "       \n",
        "map_clusters"
      ],
      "execution_count": 25,
      "outputs": [
        {
          "output_type": "execute_result",
          "data": {
            "text/html": [
              "<div style=\"width:100%;\"><div style=\"position:relative;width:100%;height:0;padding-bottom:60%;\"><iframe src=\"about:blank\" style=\"position:absolute;width:100%;height:100%;left:0;top:0;border:none !important;\" data-html=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 onload=\"this.contentDocument.open();this.contentDocument.write(atob(this.getAttribute('data-html')));this.contentDocument.close();\" allowfullscreen webkitallowfullscreen mozallowfullscreen></iframe></div></div>"
            ],
            "text/plain": [
              "<folium.folium.Map at 0x7fc276fb4c88>"
            ]
          },
          "metadata": {
            "tags": []
          },
          "execution_count": 25
        }
      ]
    },
    {
      "cell_type": "code",
      "metadata": {
        "id": "eGhRG5RSmUFP",
        "colab_type": "code",
        "colab": {}
      },
      "source": [
        ""
      ],
      "execution_count": 0,
      "outputs": []
    }
  ]
}